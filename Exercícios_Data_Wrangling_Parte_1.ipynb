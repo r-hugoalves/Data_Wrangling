{
  "nbformat": 4,
  "nbformat_minor": 0,
  "metadata": {
    "colab": {
      "provenance": [],
      "authorship_tag": "ABX9TyP6axS7LgxFD34PIKeakoRu",
      "include_colab_link": true
    },
    "kernelspec": {
      "name": "python3",
      "display_name": "Python 3"
    },
    "language_info": {
      "name": "python"
    }
  },
  "cells": [
    {
      "cell_type": "markdown",
      "metadata": {
        "id": "view-in-github",
        "colab_type": "text"
      },
      "source": [
        "<a href=\"https://colab.research.google.com/github/r-hugoalves/Data_Wrangling/blob/master/Exerc%C3%ADcios_Data_Wrangling_Parte_1.ipynb\" target=\"_parent\"><img src=\"https://colab.research.google.com/assets/colab-badge.svg\" alt=\"Open In Colab\"/></a>"
      ]
    },
    {
      "cell_type": "markdown",
      "source": [
        "# Exercícios: Data Wrangling - Parte 1"
      ],
      "metadata": {
        "id": "jdFbvWsB5pzz"
      }
    },
    {
      "cell_type": "markdown",
      "source": [
        "Notebook específico para a resolução de exercícios. Todo o material teórico se encontra [aqui](https://colab.research.google.com/drive/1IDZcS1KHF7tM76PFwFBs0rUe8sL6gkpI?usp=sharing)"
      ],
      "metadata": {
        "id": "tHtw19Q95ueS"
      }
    },
    {
      "cell_type": "markdown",
      "source": [
        "## Exercício 1"
      ],
      "metadata": {
        "id": "VA9O4_-453Fn"
      }
    },
    {
      "cell_type": "markdown",
      "source": [
        "**Arquivo HTML:** https://static.lms.ebaconline.com.br/content-files/ac039186-bc3a-42ae-af69-e1ffeb6e5233/original.html"
      ],
      "metadata": {
        "id": "XcazNKsRCOby"
      }
    },
    {
      "cell_type": "markdown",
      "source": [
        "Utilize o pacote Python `beautifulsoup4` para extrair todas as 100 empresas do arquivo `fortune.html` providenciado. Salve os dados extraidos no arquivo `fortune.csv` separado por `;`."
      ],
      "metadata": {
        "id": "uJKs2cx1CYsD"
      }
    },
    {
      "cell_type": "code",
      "source": [
        "import requests\n",
        "from bs4 import BeautifulSoup\n",
        "from requests.exceptions import HTTPError\n",
        "\n",
        "site_fortune = 'https://static.lms.ebaconline.com.br/content-files/ac039186-bc3a-42ae-af69-e1ffeb6e5233/original.html'\n",
        "\n",
        "#Extraindo o conteúdo do site\n",
        "try:\n",
        "  conteudo = requests.get(site_fortune)\n",
        "  conteudo.raise_for_status()\n",
        "except HTTPError as exc:\n",
        "  print(exc)\n",
        "else:\n",
        "  lista_fortune = conteudo.text\n",
        "\n",
        "pagina = BeautifulSoup(lista_fortune, 'html.parser')"
      ],
      "metadata": {
        "id": "AyGlUoPGCkMD"
      },
      "execution_count": 1,
      "outputs": []
    },
    {
      "cell_type": "code",
      "source": [
        "#Extraindo as linhas da tabela\n",
        "conteudo_extraido = []\n",
        "\n",
        "tabela = pagina.find('div', {'class': 'rt-table'})\n",
        "linhas = tabela.find('div', {'class': 'rt-tbody'})\n",
        "\n",
        "#Extraindo o conteudo das linhas da tabela\n",
        "for linha in linhas:\n",
        "  linhas = linha.find('div', {'role': 'row'})\n",
        "  for conteudo in linhas:\n",
        "    conteudo_linhas = conteudo.getText().strip().split('\\n')\n",
        "    conteudo_extraido.append(conteudo_linhas)\n",
        "\n",
        "#print(conteudo_extraido)"
      ],
      "metadata": {
        "id": "OdcW_gw0heaA"
      },
      "execution_count": 2,
      "outputs": []
    },
    {
      "cell_type": "code",
      "source": [
        "conversao_string = str(conteudo_extraido)\n",
        "valores_limpos = conversao_string.replace('[', '').replace(']', '').replace(\"'\", '').split(sep=', ')\n",
        "\n",
        "#print(valores_limpos)"
      ],
      "metadata": {
        "id": "47ey8TfpDoLI"
      },
      "execution_count": 3,
      "outputs": []
    },
    {
      "cell_type": "code",
      "source": [
        "#Tratando a variável 'valores_limpos' e separando cada uma das variáveis\n",
        "\n",
        "#Lista da variável rank\n",
        "comeco = 0\n",
        "list_rank = []\n",
        "\n",
        "for i in range(0, 100):\n",
        "  list_rank.append(valores_limpos[comeco])\n",
        "  comeco = comeco + 9\n",
        "  i = i + 1\n",
        "\n",
        "#print(list_rank)\n",
        "\n",
        "#Lista da variável name\n",
        "list_name = []\n",
        "comeco = 1\n",
        "\n",
        "for i in range(0, 100):\n",
        "  list_name.append(valores_limpos[comeco])\n",
        "  comeco = comeco + 9\n",
        "  i = i + 1\n",
        "\n",
        "#print(list_name)\n",
        "\n",
        "#Lista da variável revenues\n",
        "list_revenues = []\n",
        "comeco = 2\n",
        "\n",
        "for i in range(0, 100):\n",
        "  list_revenues.append(valores_limpos[comeco])\n",
        "  comeco = comeco + 9\n",
        "  i = i + 1\n",
        "\n",
        "#print(list_revenues)\n",
        "\n",
        "#Lista da variável revenues_percent_change\n",
        "list_revenues_percent_change = []\n",
        "comeco = 3\n",
        "\n",
        "for i in range(0, 100):\n",
        "  list_revenues_percent_change.append(valores_limpos[comeco])\n",
        "  comeco = comeco + 9\n",
        "  i = i + 1\n",
        "\n",
        "#print(list_revenues_percent_change)\n",
        "\n",
        "#Lista da variável profits\n",
        "list_profits = []\n",
        "comeco = 4\n",
        "\n",
        "for i in range(0, 100):\n",
        "  list_profits.append(valores_limpos[comeco])\n",
        "  comeco = comeco + 9\n",
        "  i = i + 1\n",
        "\n",
        "#print(list_profits)\n",
        "\n",
        "#Lista da variável profits_percent_change\n",
        "list_profits_percent_change = []\n",
        "comeco = 5\n",
        "\n",
        "for i in range(0, 100):\n",
        "  list_profits_percent_change.append(valores_limpos[comeco])\n",
        "  comeco = comeco + 9\n",
        "  i = i + 1\n",
        "\n",
        "#print(list_profits_percent_change)\n",
        "\n",
        "#Lista da variável assets\n",
        "list_assets = []\n",
        "comeco = 6\n",
        "\n",
        "for i in range(0, 100):\n",
        "  list_assets.append(valores_limpos[comeco])\n",
        "  comeco = comeco + 9\n",
        "  i = i + 1\n",
        "\n",
        "#print(list_assets)\n",
        "\n",
        "#Lista da variável market_value\n",
        "list_market_value = []\n",
        "comeco = 7\n",
        "\n",
        "for i in range(0, 100):\n",
        "  list_market_value.append(valores_limpos[comeco])\n",
        "  comeco = comeco + 9\n",
        "  i = i + 1\n",
        "\n",
        "#print(list_market_value)\n",
        "\n",
        "#Lista da variável employess\n",
        "list_employees = []\n",
        "comeco = 8\n",
        "\n",
        "for i in range(0, 100):\n",
        "  list_employees.append(valores_limpos[comeco])\n",
        "  comeco = comeco + 9\n",
        "  i = i + 1\n",
        "\n",
        "#print(list_employees)"
      ],
      "metadata": {
        "id": "heQ_DF1aWryi"
      },
      "execution_count": 4,
      "outputs": []
    },
    {
      "cell_type": "code",
      "source": [
        "#Escrevendo no arquivo CSV\n",
        "import csv\n",
        "\n",
        "with open(file='./fortune.csv', mode='w', encoding='utf8') as arquivo:\n",
        "  escritor_csv = csv.writer(arquivo, delimiter=';')\n",
        "  escritor_csv.writerow(['rank', 'name', 'revenues', 'revenues-percent-change', 'profits', 'profits-percent-change', 'assets', 'market-value', 'employees'])\n",
        "\n",
        "  for i in range(0,100):\n",
        "    escritor_csv.writerow([\n",
        "        list_rank[i],\n",
        "        list_name[i],\n",
        "        list_revenues[i],\n",
        "        list_revenues_percent_change[i],\n",
        "        list_profits[i],\n",
        "        list_profits_percent_change[i],\n",
        "        list_assets[i],\n",
        "        list_market_value[i],\n",
        "        list_employees[i]\n",
        "    ])"
      ],
      "metadata": {
        "id": "FW_BdOO03g0r"
      },
      "execution_count": 5,
      "outputs": []
    },
    {
      "cell_type": "markdown",
      "source": [
        "## Exercício 2"
      ],
      "metadata": {
        "id": "7WYKtABO53AF"
      }
    },
    {
      "cell_type": "markdown",
      "source": [
        "Crie o dataframe Pandas na variável `fortune_df` através da leitura do arquivo `fortune.csv`"
      ],
      "metadata": {
        "id": "8M3qjuCEmb9Q"
      }
    },
    {
      "cell_type": "code",
      "source": [
        "import pandas as pd\n",
        "\n",
        "fortune_df = pd.read_csv('fortune.csv', sep=';')\n",
        "fortune_df"
      ],
      "metadata": {
        "colab": {
          "base_uri": "https://localhost:8080/",
          "height": 424
        },
        "id": "pYCr4Yw6meEb",
        "outputId": "6a4a5aae-f9ef-4b32-e26b-acb206ae9279"
      },
      "execution_count": 6,
      "outputs": [
        {
          "output_type": "execute_result",
          "data": {
            "text/plain": [
              "    rank                   name  revenues revenues-percent-change  profits  \\\n",
              "0      1                Walmart  $559,151                    6.7%  $13,510   \n",
              "1      2                 Amazon  $386,064                   37.6%  $21,331   \n",
              "2      3                  Apple  $274,515                    5.5%  $57,411   \n",
              "3      4             CVS Health  $268,706                    4.6%   $7,179   \n",
              "4      5     UnitedHealth Group  $257,141                    6.2%  $15,403   \n",
              "..   ...                    ...       ...                     ...      ...   \n",
              "95    96                     3M   $32,184                    0.1%   $5,384   \n",
              "96    97                    TJX   $32,137                    -23%    $90.5   \n",
              "97    98              Travelers   $31,981                    1.3%   $2,697   \n",
              "98    99  Capital One Financial   $31,643                   -6.3%   $2,714   \n",
              "99   100                  Tesla   $31,536                   28.3%     $721   \n",
              "\n",
              "   profits-percent-change     assets  market-value  employees  \n",
              "0                   -9.2%   $252,496    $382,642.8  2,300,000  \n",
              "1                   84.1%   $321,195  $1,558,069.6  1,298,000  \n",
              "2                    3.9%   $323,888  $2,050,665.9    147,000  \n",
              "3                    8.2%   $230,715     $98,653.2    256,500  \n",
              "4                   11.3%   $197,289      $351,725    330,000  \n",
              "..                    ...        ...           ...        ...  \n",
              "95                  17.8%    $47,344    $111,642.1     94,987  \n",
              "96                 -97.2%  $30,813.6     $79,774.9    320,000  \n",
              "97                   2.9%   $116,764       $37,933     30,294  \n",
              "98                 -51.1%   $421,602       $58,097     51,985  \n",
              "99                      -    $52,148      $641,115     70,757  \n",
              "\n",
              "[100 rows x 9 columns]"
            ],
            "text/html": [
              "\n",
              "  <div id=\"df-c15a7b3d-8fef-400c-a8d1-64b6767ced9f\">\n",
              "    <div class=\"colab-df-container\">\n",
              "      <div>\n",
              "<style scoped>\n",
              "    .dataframe tbody tr th:only-of-type {\n",
              "        vertical-align: middle;\n",
              "    }\n",
              "\n",
              "    .dataframe tbody tr th {\n",
              "        vertical-align: top;\n",
              "    }\n",
              "\n",
              "    .dataframe thead th {\n",
              "        text-align: right;\n",
              "    }\n",
              "</style>\n",
              "<table border=\"1\" class=\"dataframe\">\n",
              "  <thead>\n",
              "    <tr style=\"text-align: right;\">\n",
              "      <th></th>\n",
              "      <th>rank</th>\n",
              "      <th>name</th>\n",
              "      <th>revenues</th>\n",
              "      <th>revenues-percent-change</th>\n",
              "      <th>profits</th>\n",
              "      <th>profits-percent-change</th>\n",
              "      <th>assets</th>\n",
              "      <th>market-value</th>\n",
              "      <th>employees</th>\n",
              "    </tr>\n",
              "  </thead>\n",
              "  <tbody>\n",
              "    <tr>\n",
              "      <th>0</th>\n",
              "      <td>1</td>\n",
              "      <td>Walmart</td>\n",
              "      <td>$559,151</td>\n",
              "      <td>6.7%</td>\n",
              "      <td>$13,510</td>\n",
              "      <td>-9.2%</td>\n",
              "      <td>$252,496</td>\n",
              "      <td>$382,642.8</td>\n",
              "      <td>2,300,000</td>\n",
              "    </tr>\n",
              "    <tr>\n",
              "      <th>1</th>\n",
              "      <td>2</td>\n",
              "      <td>Amazon</td>\n",
              "      <td>$386,064</td>\n",
              "      <td>37.6%</td>\n",
              "      <td>$21,331</td>\n",
              "      <td>84.1%</td>\n",
              "      <td>$321,195</td>\n",
              "      <td>$1,558,069.6</td>\n",
              "      <td>1,298,000</td>\n",
              "    </tr>\n",
              "    <tr>\n",
              "      <th>2</th>\n",
              "      <td>3</td>\n",
              "      <td>Apple</td>\n",
              "      <td>$274,515</td>\n",
              "      <td>5.5%</td>\n",
              "      <td>$57,411</td>\n",
              "      <td>3.9%</td>\n",
              "      <td>$323,888</td>\n",
              "      <td>$2,050,665.9</td>\n",
              "      <td>147,000</td>\n",
              "    </tr>\n",
              "    <tr>\n",
              "      <th>3</th>\n",
              "      <td>4</td>\n",
              "      <td>CVS Health</td>\n",
              "      <td>$268,706</td>\n",
              "      <td>4.6%</td>\n",
              "      <td>$7,179</td>\n",
              "      <td>8.2%</td>\n",
              "      <td>$230,715</td>\n",
              "      <td>$98,653.2</td>\n",
              "      <td>256,500</td>\n",
              "    </tr>\n",
              "    <tr>\n",
              "      <th>4</th>\n",
              "      <td>5</td>\n",
              "      <td>UnitedHealth Group</td>\n",
              "      <td>$257,141</td>\n",
              "      <td>6.2%</td>\n",
              "      <td>$15,403</td>\n",
              "      <td>11.3%</td>\n",
              "      <td>$197,289</td>\n",
              "      <td>$351,725</td>\n",
              "      <td>330,000</td>\n",
              "    </tr>\n",
              "    <tr>\n",
              "      <th>...</th>\n",
              "      <td>...</td>\n",
              "      <td>...</td>\n",
              "      <td>...</td>\n",
              "      <td>...</td>\n",
              "      <td>...</td>\n",
              "      <td>...</td>\n",
              "      <td>...</td>\n",
              "      <td>...</td>\n",
              "      <td>...</td>\n",
              "    </tr>\n",
              "    <tr>\n",
              "      <th>95</th>\n",
              "      <td>96</td>\n",
              "      <td>3M</td>\n",
              "      <td>$32,184</td>\n",
              "      <td>0.1%</td>\n",
              "      <td>$5,384</td>\n",
              "      <td>17.8%</td>\n",
              "      <td>$47,344</td>\n",
              "      <td>$111,642.1</td>\n",
              "      <td>94,987</td>\n",
              "    </tr>\n",
              "    <tr>\n",
              "      <th>96</th>\n",
              "      <td>97</td>\n",
              "      <td>TJX</td>\n",
              "      <td>$32,137</td>\n",
              "      <td>-23%</td>\n",
              "      <td>$90.5</td>\n",
              "      <td>-97.2%</td>\n",
              "      <td>$30,813.6</td>\n",
              "      <td>$79,774.9</td>\n",
              "      <td>320,000</td>\n",
              "    </tr>\n",
              "    <tr>\n",
              "      <th>97</th>\n",
              "      <td>98</td>\n",
              "      <td>Travelers</td>\n",
              "      <td>$31,981</td>\n",
              "      <td>1.3%</td>\n",
              "      <td>$2,697</td>\n",
              "      <td>2.9%</td>\n",
              "      <td>$116,764</td>\n",
              "      <td>$37,933</td>\n",
              "      <td>30,294</td>\n",
              "    </tr>\n",
              "    <tr>\n",
              "      <th>98</th>\n",
              "      <td>99</td>\n",
              "      <td>Capital One Financial</td>\n",
              "      <td>$31,643</td>\n",
              "      <td>-6.3%</td>\n",
              "      <td>$2,714</td>\n",
              "      <td>-51.1%</td>\n",
              "      <td>$421,602</td>\n",
              "      <td>$58,097</td>\n",
              "      <td>51,985</td>\n",
              "    </tr>\n",
              "    <tr>\n",
              "      <th>99</th>\n",
              "      <td>100</td>\n",
              "      <td>Tesla</td>\n",
              "      <td>$31,536</td>\n",
              "      <td>28.3%</td>\n",
              "      <td>$721</td>\n",
              "      <td>-</td>\n",
              "      <td>$52,148</td>\n",
              "      <td>$641,115</td>\n",
              "      <td>70,757</td>\n",
              "    </tr>\n",
              "  </tbody>\n",
              "</table>\n",
              "<p>100 rows × 9 columns</p>\n",
              "</div>\n",
              "      <button class=\"colab-df-convert\" onclick=\"convertToInteractive('df-c15a7b3d-8fef-400c-a8d1-64b6767ced9f')\"\n",
              "              title=\"Convert this dataframe to an interactive table.\"\n",
              "              style=\"display:none;\">\n",
              "        \n",
              "  <svg xmlns=\"http://www.w3.org/2000/svg\" height=\"24px\"viewBox=\"0 0 24 24\"\n",
              "       width=\"24px\">\n",
              "    <path d=\"M0 0h24v24H0V0z\" fill=\"none\"/>\n",
              "    <path d=\"M18.56 5.44l.94 2.06.94-2.06 2.06-.94-2.06-.94-.94-2.06-.94 2.06-2.06.94zm-11 1L8.5 8.5l.94-2.06 2.06-.94-2.06-.94L8.5 2.5l-.94 2.06-2.06.94zm10 10l.94 2.06.94-2.06 2.06-.94-2.06-.94-.94-2.06-.94 2.06-2.06.94z\"/><path d=\"M17.41 7.96l-1.37-1.37c-.4-.4-.92-.59-1.43-.59-.52 0-1.04.2-1.43.59L10.3 9.45l-7.72 7.72c-.78.78-.78 2.05 0 2.83L4 21.41c.39.39.9.59 1.41.59.51 0 1.02-.2 1.41-.59l7.78-7.78 2.81-2.81c.8-.78.8-2.07 0-2.86zM5.41 20L4 18.59l7.72-7.72 1.47 1.35L5.41 20z\"/>\n",
              "  </svg>\n",
              "      </button>\n",
              "      \n",
              "  <style>\n",
              "    .colab-df-container {\n",
              "      display:flex;\n",
              "      flex-wrap:wrap;\n",
              "      gap: 12px;\n",
              "    }\n",
              "\n",
              "    .colab-df-convert {\n",
              "      background-color: #E8F0FE;\n",
              "      border: none;\n",
              "      border-radius: 50%;\n",
              "      cursor: pointer;\n",
              "      display: none;\n",
              "      fill: #1967D2;\n",
              "      height: 32px;\n",
              "      padding: 0 0 0 0;\n",
              "      width: 32px;\n",
              "    }\n",
              "\n",
              "    .colab-df-convert:hover {\n",
              "      background-color: #E2EBFA;\n",
              "      box-shadow: 0px 1px 2px rgba(60, 64, 67, 0.3), 0px 1px 3px 1px rgba(60, 64, 67, 0.15);\n",
              "      fill: #174EA6;\n",
              "    }\n",
              "\n",
              "    [theme=dark] .colab-df-convert {\n",
              "      background-color: #3B4455;\n",
              "      fill: #D2E3FC;\n",
              "    }\n",
              "\n",
              "    [theme=dark] .colab-df-convert:hover {\n",
              "      background-color: #434B5C;\n",
              "      box-shadow: 0px 1px 3px 1px rgba(0, 0, 0, 0.15);\n",
              "      filter: drop-shadow(0px 1px 2px rgba(0, 0, 0, 0.3));\n",
              "      fill: #FFFFFF;\n",
              "    }\n",
              "  </style>\n",
              "\n",
              "      <script>\n",
              "        const buttonEl =\n",
              "          document.querySelector('#df-c15a7b3d-8fef-400c-a8d1-64b6767ced9f button.colab-df-convert');\n",
              "        buttonEl.style.display =\n",
              "          google.colab.kernel.accessAllowed ? 'block' : 'none';\n",
              "\n",
              "        async function convertToInteractive(key) {\n",
              "          const element = document.querySelector('#df-c15a7b3d-8fef-400c-a8d1-64b6767ced9f');\n",
              "          const dataTable =\n",
              "            await google.colab.kernel.invokeFunction('convertToInteractive',\n",
              "                                                     [key], {});\n",
              "          if (!dataTable) return;\n",
              "\n",
              "          const docLinkHtml = 'Like what you see? Visit the ' +\n",
              "            '<a target=\"_blank\" href=https://colab.research.google.com/notebooks/data_table.ipynb>data table notebook</a>'\n",
              "            + ' to learn more about interactive tables.';\n",
              "          element.innerHTML = '';\n",
              "          dataTable['output_type'] = 'display_data';\n",
              "          await google.colab.output.renderOutput(dataTable, element);\n",
              "          const docLink = document.createElement('div');\n",
              "          docLink.innerHTML = docLinkHtml;\n",
              "          element.appendChild(docLink);\n",
              "        }\n",
              "      </script>\n",
              "    </div>\n",
              "  </div>\n",
              "  "
            ]
          },
          "metadata": {},
          "execution_count": 6
        }
      ]
    },
    {
      "cell_type": "markdown",
      "source": [
        "## Exercício 3"
      ],
      "metadata": {
        "id": "RP0s3F_h525q"
      }
    },
    {
      "cell_type": "markdown",
      "source": [
        "Explore o DataFrame e realize as seguintes operações:\n",
        "\n",
        "* Liste as 10 primeiras linhas do dataframe\n",
        "* Liste os tipos de dados armazenados na coluna do dataframe\n",
        "* Liste o número de linhas e colunas do dataframe"
      ],
      "metadata": {
        "id": "y0s6Eoa2mvC3"
      }
    },
    {
      "cell_type": "code",
      "source": [
        "# 10 primeiras linhas do dataframe\n",
        "print(fortune_df.head(10))\n",
        "\n",
        "# Tipos de dados armazenados na coluna do dataframe\n",
        "print(fortune_df.dtypes)\n",
        "\n",
        "# Número de linhas e colunas do dataframe\n",
        "print(fortune_df.shape)"
      ],
      "metadata": {
        "id": "iZZVcVi9m9SC"
      },
      "execution_count": null,
      "outputs": []
    },
    {
      "cell_type": "markdown",
      "source": [
        "## Exercício 4"
      ],
      "metadata": {
        "id": "NKviDIQu52zE"
      }
    },
    {
      "cell_type": "markdown",
      "source": [
        "Grande parte das colunas numéricas (exceto a coluna `ranking` e `employees`) possuem o caracter `$` ou `%` que as classificam com o tipo `object` (ou `str` do Python) ao invés do tipo correto como `int` ou `float`. Utilizando os métodos de atualizam, remova os caracteres das linhas das colunas numéricas.\n"
      ],
      "metadata": {
        "id": "O5WKah3fn3T_"
      }
    },
    {
      "cell_type": "code",
      "source": [
        "fortune_df['revenues'] = fortune_df['revenues'].apply(lambda valor: valor.replace(\"$\", ''))\n",
        "fortune_df['profits'] = fortune_df['profits'].apply(lambda valor: valor.replace(\"$\", ''))\n",
        "fortune_df['assets'] = fortune_df['assets'].apply(lambda valor: valor.replace(\"$\", ''))\n",
        "fortune_df['market-value'] = fortune_df['market-value'].apply(lambda valor: valor.replace(\"$\", ''))\n",
        "\n",
        "print(fortune_df)"
      ],
      "metadata": {
        "colab": {
          "base_uri": "https://localhost:8080/",
          "height": 0
        },
        "id": "pBYd-7FHnyUr",
        "outputId": "2e929267-daab-40d8-bccb-9a2e99286250"
      },
      "execution_count": 12,
      "outputs": [
        {
          "output_type": "stream",
          "name": "stdout",
          "text": [
            "    rank                   name revenues revenues-percent-change profits  \\\n",
            "0      1                Walmart  559,151                    6.7%  13,510   \n",
            "1      2                 Amazon  386,064                   37.6%  21,331   \n",
            "2      3                  Apple  274,515                    5.5%  57,411   \n",
            "3      4             CVS Health  268,706                    4.6%   7,179   \n",
            "4      5     UnitedHealth Group  257,141                    6.2%  15,403   \n",
            "..   ...                    ...      ...                     ...     ...   \n",
            "95    96                     3M   32,184                    0.1%   5,384   \n",
            "96    97                    TJX   32,137                    -23%    90.5   \n",
            "97    98              Travelers   31,981                    1.3%   2,697   \n",
            "98    99  Capital One Financial   31,643                   -6.3%   2,714   \n",
            "99   100                  Tesla   31,536                   28.3%     721   \n",
            "\n",
            "   profits-percent-change    assets market-value  employees  \n",
            "0                   -9.2%   252,496    382,642.8  2,300,000  \n",
            "1                   84.1%   321,195  1,558,069.6  1,298,000  \n",
            "2                    3.9%   323,888  2,050,665.9    147,000  \n",
            "3                    8.2%   230,715     98,653.2    256,500  \n",
            "4                   11.3%   197,289      351,725    330,000  \n",
            "..                    ...       ...          ...        ...  \n",
            "95                  17.8%    47,344    111,642.1     94,987  \n",
            "96                 -97.2%  30,813.6     79,774.9    320,000  \n",
            "97                   2.9%   116,764       37,933     30,294  \n",
            "98                 -51.1%   421,602       58,097     51,985  \n",
            "99                      -    52,148      641,115     70,757  \n",
            "\n",
            "[100 rows x 9 columns]\n"
          ]
        }
      ]
    },
    {
      "cell_type": "markdown",
      "source": [
        "## Exercício 5"
      ],
      "metadata": {
        "id": "hpSh6dZa52sD"
      }
    },
    {
      "cell_type": "markdown",
      "source": [
        "Utilize o método `to_csv` para salvar o dataframe `fortune_df` no arquivo `fortune-limpo.csv`."
      ],
      "metadata": {
        "id": "Wci-slctGtJ5"
      }
    },
    {
      "cell_type": "code",
      "source": [
        "fortune_df.to_csv('fortune_limpo.csv', encoding='utf8', index=False, sep=';')"
      ],
      "metadata": {
        "id": "l0By3OW-GvTW"
      },
      "execution_count": 11,
      "outputs": []
    }
  ]
}